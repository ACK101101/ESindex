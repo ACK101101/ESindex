{
 "cells": [
  {
   "cell_type": "markdown",
   "metadata": {},
   "source": [
    "## Load in CSV's"
   ]
  },
  {
   "cell_type": "code",
   "execution_count": 10,
   "metadata": {},
   "outputs": [],
   "source": [
    "import pandas as pd\n",
    "\n",
    "imdb_df = pd.read_csv(\"data/imdb/imdb_top_1000.csv\")                    # small, use 'Overview' ?\n",
    "lego_colors_df = pd.read_csv(\"data/lego/colors.csv\")                    # small, use 'rgb'\n",
    "lego_invent_parts_df = pd.read_csv(\"data/lego/inventory_parts.csv\")     # big, use 'part_num'\n",
    "twitter_df = pd.read_csv(\"data/twitter/Tweets.csv\")                     # small-med, use ?"
   ]
  },
  {
   "cell_type": "markdown",
   "metadata": {},
   "source": [
    "## Generate Random Data"
   ]
  },
  {
   "cell_type": "code",
   "execution_count": 27,
   "metadata": {},
   "outputs": [],
   "source": [
    "import random\n",
    "import string\n",
    "\n",
    "random.seed(42)\n",
    "\n",
    "def generate_random_string(k):\n",
    "    return ''.join(random.choices(string.ascii_letters + string.digits, k=k))\n",
    "\n",
    "def generate_random_string_table(num_rows: int, len_str: int):\n",
    "    data = {'RandomString': [generate_random_string(len_str) for _ in range(num_rows)]}\n",
    "    \n",
    "    return pd.DataFrame(data)"
   ]
  },
  {
   "cell_type": "code",
   "execution_count": 33,
   "metadata": {},
   "outputs": [],
   "source": [
    "# 100 rows\n",
    "random_100 = generate_random_string_table(100, 8)\n",
    "random_100.to_csv(\"data/random/random_100.csv\")\n",
    "\n",
    "# 10000 rows\n",
    "random_10000 = generate_random_string_table(10000, 8)\n",
    "random_10000.to_csv(\"data/random/random_10000.csv\")\n",
    "\n",
    "# 1000000 rows\n",
    "random_1000000 = generate_random_string_table(1000000, 8)\n",
    "random_1000000.to_csv(\"data/random/random_1000000.csv\")"
   ]
  }
 ],
 "metadata": {
  "kernelspec": {
   "display_name": "probML",
   "language": "python",
   "name": "python3"
  },
  "language_info": {
   "codemirror_mode": {
    "name": "ipython",
    "version": 3
   },
   "file_extension": ".py",
   "mimetype": "text/x-python",
   "name": "python",
   "nbconvert_exporter": "python",
   "pygments_lexer": "ipython3",
   "version": "3.7.12"
  }
 },
 "nbformat": 4,
 "nbformat_minor": 2
}
