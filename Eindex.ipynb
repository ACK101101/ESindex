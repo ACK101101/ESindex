{
 "cells": [
  {
   "cell_type": "code",
   "execution_count": null,
   "metadata": {},
   "outputs": [],
   "source": [
    "## Data Preprocessing\n",
    "\n",
    "# simple array like representation of database column of strings\n",
    "# function takes in dataset and column index\n",
    "    # function outputs array of strings from input column in sorted order\n",
    "    \n",
    "# generate normal data"
   ]
  },
  {
   "cell_type": "code",
   "execution_count": 25,
   "metadata": {},
   "outputs": [],
   "source": [
    "import pandas as pd\n",
    "\n",
    "imdb_df = pd.read_csv(\"data/imdb/imdb_top_1000.csv\")                    # small, use 'Overview' ?\n",
    "lego_colors_df = pd.read_csv(\"data/lego/colors.csv\")                    # small, use 'rgb'\n",
    "lego_invent_parts_df = pd.read_csv(\"data/lego/inventory_parts.csv\")     # big, use 'part_num'\n",
    "twitter_df = pd.read_csv(\"data/twitter/Tweets.csv\")                     # small-med, use ?"
   ]
  },
  {
   "cell_type": "code",
   "execution_count": 30,
   "metadata": {},
   "outputs": [
    {
     "data": {
      "text/plain": [
       "'3795'"
      ]
     },
     "execution_count": 30,
     "metadata": {},
     "output_type": "execute_result"
    }
   ],
   "source": [
    "lego_invent_parts_df['part_num'][5800]"
   ]
  },
  {
   "cell_type": "code",
   "execution_count": 24,
   "metadata": {},
   "outputs": [],
   "source": [
    "import random\n",
    "import string\n",
    "\n",
    "def generate_random_string(k):\n",
    "    return ''.join(random.choices(string.ascii_letters + string.digits, k=k))\n",
    "\n",
    "def generate_random_string_table(num_rows: int, len_str: int):\n",
    "    data = {'RandomString': [generate_random_string(len_str) for _ in range(num_rows)]}\n",
    "    \n",
    "    return pd.DataFrame(data)"
   ]
  },
  {
   "cell_type": "code",
   "execution_count": 23,
   "metadata": {},
   "outputs": [],
   "source": [
    "def sort_col(df: pd.DataFrame, col: str) -> pd.Series:\n",
    "    df.sort_values(by=col, inplace=True)\n",
    "    df.reset_index(drop=True, inplace=True)\n",
    "    \n",
    "    return df"
   ]
  },
  {
   "cell_type": "code",
   "execution_count": null,
   "metadata": {},
   "outputs": [],
   "source": [
    "## Last Mile Search (make each a hyperparam?)\n",
    "\n",
    "#? quartenary\n",
    "#? binary\n",
    "#? exponential"
   ]
  },
  {
   "cell_type": "code",
   "execution_count": null,
   "metadata": {},
   "outputs": [],
   "source": [
    "## Baseline\n",
    "\n",
    "# hash function to take in string\n",
    "    # output k length digest\n",
    "# linear model take in k length digest\n",
    "    # output predicted index\n",
    "    \n",
    "#? implement hierarchical linear models after?\n",
    "#? implement non-linear models after?"
   ]
  },
  {
   "cell_type": "code",
   "execution_count": null,
   "metadata": {},
   "outputs": [],
   "source": [
    "## Ours\n",
    "\n",
    "# embedding function to take in string\n",
    "    # output k length learned encoding\n",
    "# linear model take in k length encoding\n",
    "    # output predicted index\n",
    "\n",
    "#? implement hierarchical linear models after?\n",
    "#? implement non-linear models after?"
   ]
  },
  {
   "cell_type": "code",
   "execution_count": null,
   "metadata": {},
   "outputs": [],
   "source": [
    "## Training\n",
    "\n",
    "# loop for batching table data\n",
    "    # get encodings / digests for each string\n",
    "    # predict position according to encodings / digests\n",
    "    # compute loss based on distance / num comparisons\n",
    "    # backprop"
   ]
  },
  {
   "cell_type": "code",
   "execution_count": null,
   "metadata": {},
   "outputs": [],
   "source": [
    "## Evaluation\n",
    "\n",
    "# for each string entry in the table\n",
    "    # tally loss / speed"
   ]
  }
 ],
 "metadata": {
  "kernelspec": {
   "display_name": "probML",
   "language": "python",
   "name": "python3"
  },
  "language_info": {
   "codemirror_mode": {
    "name": "ipython",
    "version": 3
   },
   "file_extension": ".py",
   "mimetype": "text/x-python",
   "name": "python",
   "nbconvert_exporter": "python",
   "pygments_lexer": "ipython3",
   "version": "3.7.12"
  }
 },
 "nbformat": 4,
 "nbformat_minor": 2
}
