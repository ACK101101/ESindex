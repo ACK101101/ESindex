{
 "cells": [
  {
   "cell_type": "code",
   "execution_count": null,
   "metadata": {},
   "outputs": [],
   "source": [
    "## Data Preprocessing\n",
    "\n",
    "# simple array like representation of database column of strings\n",
    "# function takes in dataset and column index\n",
    "    # function outputs array of strings from input column in sorted order"
   ]
  },
  {
   "cell_type": "code",
   "execution_count": null,
   "metadata": {},
   "outputs": [],
   "source": [
    "## Last Mile Search (make each a hyperparam?)\n",
    "\n",
    "#? quartenary\n",
    "#? binary\n",
    "#? exponential\n"
   ]
  },
  {
   "cell_type": "code",
   "execution_count": null,
   "metadata": {},
   "outputs": [],
   "source": [
    "## Baseline\n",
    "\n",
    "# hash function to take in string\n",
    "    # output k length digest\n",
    "# linear model take in k length digest\n",
    "    # output predicted index\n",
    "    \n",
    "#? implement hierarchical linear models after?\n",
    "#? implement non-linear models after?"
   ]
  },
  {
   "cell_type": "code",
   "execution_count": null,
   "metadata": {},
   "outputs": [],
   "source": [
    "## Ours\n",
    "\n",
    "# embedding function to take in string\n",
    "    # output k length learned encoding\n",
    "# linear model take in k length encoding\n",
    "    # output predicted index\n",
    "\n",
    "#? implement hierarchical linear models after?\n",
    "#? implement non-linear models after?"
   ]
  },
  {
   "cell_type": "code",
   "execution_count": null,
   "metadata": {},
   "outputs": [],
   "source": [
    "## Training\n",
    "\n",
    "# loop for batching table data\n",
    "    # get encodings / digests for each string\n",
    "    # predict position according to encodings / digests\n",
    "    # compute loss based on distance / num comparisons\n",
    "    # backprop"
   ]
  },
  {
   "cell_type": "code",
   "execution_count": null,
   "metadata": {},
   "outputs": [],
   "source": [
    "## Evaluation\n",
    "\n",
    "# for each string entry in the table\n",
    "    # tally loss / speed"
   ]
  }
 ],
 "metadata": {
  "language_info": {
   "name": "python"
  }
 },
 "nbformat": 4,
 "nbformat_minor": 2
}
