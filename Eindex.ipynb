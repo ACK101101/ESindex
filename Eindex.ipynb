{
 "cells": [
  {
   "cell_type": "code",
   "execution_count": null,
   "metadata": {},
   "outputs": [],
   "source": [
    "## Last Mile Search (make each a hyperparam?)\n",
    "\n",
    "#? quartenary\n",
    "#? binary\n",
    "#? exponential"
   ]
  },
  {
   "cell_type": "code",
   "execution_count": null,
   "metadata": {},
   "outputs": [],
   "source": [
    "## Baseline\n",
    "\n",
    "# hash function to take in string\n",
    "    # output k length digest\n",
    "# linear model take in k length digest\n",
    "    # output predicted index\n",
    "    \n",
    "#? implement hierarchical linear models after?\n",
    "#? implement non-linear models after?"
   ]
  },
  {
   "cell_type": "code",
   "execution_count": null,
   "metadata": {},
   "outputs": [],
   "source": [
    "## Ours\n",
    "\n",
    "# embedding function to take in string\n",
    "    # output k length learned encoding\n",
    "# linear model take in k length encoding\n",
    "    # output predicted index\n",
    "\n",
    "#? implement hierarchical linear models after?\n",
    "#? implement non-linear models after?"
   ]
  },
  {
   "cell_type": "code",
   "execution_count": null,
   "metadata": {},
   "outputs": [],
   "source": [
    "## Training\n",
    "\n",
    "# loop for batching table data\n",
    "    # get encodings / digests for each string\n",
    "    # predict position according to encodings / digests\n",
    "    # compute loss based on distance / num comparisons\n",
    "    # backprop"
   ]
  },
  {
   "cell_type": "code",
   "execution_count": null,
   "metadata": {},
   "outputs": [],
   "source": [
    "## Evaluation\n",
    "\n",
    "# for each string entry in the table\n",
    "    # tally loss / speed"
   ]
  }
 ],
 "metadata": {
  "kernelspec": {
   "display_name": "probML",
   "language": "python",
   "name": "python3"
  },
  "language_info": {
   "codemirror_mode": {
    "name": "ipython",
    "version": 3
   },
   "file_extension": ".py",
   "mimetype": "text/x-python",
   "name": "python",
   "nbconvert_exporter": "python",
   "pygments_lexer": "ipython3",
   "version": "3.7.12"
  }
 },
 "nbformat": 4,
 "nbformat_minor": 2
}
